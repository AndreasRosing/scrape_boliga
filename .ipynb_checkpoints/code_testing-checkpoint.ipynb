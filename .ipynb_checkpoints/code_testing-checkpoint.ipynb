{
 "cells": [
  {
   "cell_type": "code",
   "execution_count": 1,
   "metadata": {},
   "outputs": [],
   "source": [
    "import pandas as pd"
   ]
  },
  {
   "cell_type": "code",
   "execution_count": 2,
   "metadata": {},
   "outputs": [],
   "source": [
    "villa = pd.read_csv('/Users/AndreasRosing/Documents/DataScience/Python/Boligsiden_EDA_and_analysis/Storkobenhavn_1992_2019_Villa.csv',\n",
    "                    header=0, parse_dates=True)"
   ]
  },
  {
   "cell_type": "markdown",
   "metadata": {},
   "source": [
    "Get only Mellemvang houses in Hoersholm"
   ]
  },
  {
   "cell_type": "code",
   "execution_count": 3,
   "metadata": {},
   "outputs": [
    {
     "name": "stdout",
     "output_type": "stream",
     "text": [
      "<class 'pandas.core.frame.DataFrame'>\n",
      "RangeIndex: 84608 entries, 0 to 84607\n",
      "Data columns (total 14 columns):\n",
      " #   Column         Non-Null Count  Dtype  \n",
      "---  ------         --------------  -----  \n",
      " 0   street         84608 non-null  object \n",
      " 1   street_num     84608 non-null  int64  \n",
      " 2   floor          123 non-null    object \n",
      " 3   postnr         84608 non-null  int64  \n",
      " 4   settlement     84608 non-null  object \n",
      " 5   price          84608 non-null  int64  \n",
      " 6   sales_date     84608 non-null  object \n",
      " 7   sales_type     84608 non-null  object \n",
      " 8   sqm_price      79455 non-null  float64\n",
      " 9   room_nr        84608 non-null  int64  \n",
      " 10  property_type  84608 non-null  object \n",
      " 11  sqm            84608 non-null  int64  \n",
      " 12  year_built     84368 non-null  float64\n",
      " 13  price_change   84608 non-null  int64  \n",
      "dtypes: float64(2), int64(6), object(6)\n",
      "memory usage: 9.0+ MB\n"
     ]
    }
   ],
   "source": [
    "villa.info()"
   ]
  },
  {
   "cell_type": "code",
   "execution_count": null,
   "metadata": {},
   "outputs": [],
   "source": []
  }
 ],
 "metadata": {
  "kernelspec": {
   "display_name": "Python 3",
   "language": "python",
   "name": "python3"
  },
  "language_info": {
   "codemirror_mode": {
    "name": "ipython",
    "version": 3
   },
   "file_extension": ".py",
   "mimetype": "text/x-python",
   "name": "python",
   "nbconvert_exporter": "python",
   "pygments_lexer": "ipython3",
   "version": "3.8.4"
  }
 },
 "nbformat": 4,
 "nbformat_minor": 4
}
