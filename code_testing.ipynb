{
 "cells": [
  {
   "cell_type": "code",
   "execution_count": 2,
   "metadata": {},
   "outputs": [],
   "source": [
    "import pandas as pd"
   ]
  },
  {
   "cell_type": "code",
   "execution_count": 3,
   "metadata": {},
   "outputs": [],
   "source": [
    "villa = pd.read_csv('/Users/AndreasRosing/Documents/DataScience/Python/scrape_boliga/hoersholm_rungsted_2018-20200721.csv',\n",
    "                    header=0, parse_dates=True)"
   ]
  },
  {
   "cell_type": "markdown",
   "metadata": {},
   "source": [
    "Get only Mellemvang houses in Hoersholm"
   ]
  },
  {
   "cell_type": "code",
   "execution_count": 4,
   "metadata": {
    "tags": []
   },
   "outputs": [
    {
     "output_type": "stream",
     "name": "stdout",
     "text": "<class 'pandas.core.frame.DataFrame'>\nRangeIndex: 1138 entries, 0 to 1137\nData columns (total 22 columns):\n #   Column              Non-Null Count  Dtype  \n---  ------              --------------  -----  \n 0   Unnamed: 0          1138 non-null   int64  \n 1   estateId            1138 non-null   int64  \n 2   street              1138 non-null   object \n 3   street_num          1138 non-null   object \n 4   floor               201 non-null    object \n 5   postnr              1138 non-null   int64  \n 6   settlement          1138 non-null   object \n 7   lat                 1138 non-null   float64\n 8   long                1138 non-null   float64\n 9   property_type       1138 non-null   object \n 10  sales_type          1138 non-null   object \n 11  sqm                 1138 non-null   int64  \n 12  sqm_price           1138 non-null   float64\n 13  year_built          1138 non-null   int64  \n 14  sales_date          1138 non-null   object \n 15  lot_size            0 non-null      float64\n 16  energy_class        0 non-null      float64\n 17  ownership_expenses  0 non-null      float64\n 18  basement_size       0 non-null      float64\n 19  days_on_market      0 non-null      float64\n 20  price_change        1138 non-null   float64\n 21  price               1138 non-null   int64  \ndtypes: float64(9), int64(6), object(7)\nmemory usage: 195.7+ KB\n"
    }
   ],
   "source": [
    "villa.info()"
   ]
  },
  {
   "cell_type": "code",
   "execution_count": 6,
   "metadata": {},
   "outputs": [],
   "source": [
    "mlv = villa[villa.street == \"Mellemvang\"]"
   ]
  },
  {
   "cell_type": "code",
   "execution_count": 7,
   "metadata": {},
   "outputs": [
    {
     "output_type": "execute_result",
     "data": {
      "text/plain": "(5, 22)"
     },
     "metadata": {},
     "execution_count": 7
    }
   ],
   "source": [
    "mlv.shape"
   ]
  },
  {
   "cell_type": "code",
   "execution_count": 8,
   "metadata": {},
   "outputs": [
    {
     "output_type": "execute_result",
     "data": {
      "text/plain": "     Unnamed: 0  estateId      street street_num floor  postnr settlement  \\\n116         116         0  Mellemvang        14B   NaN    2970   Hørsholm   \n231         231         0  Mellemvang         3A   NaN    2970   Hørsholm   \n232         232         0  Mellemvang         3B   NaN    2970   Hørsholm   \n534         534         0  Mellemvang         16   NaN    2970   Hørsholm   \n876         876   1430253  Mellemvang         13   NaN    2970   Hørsholm   \n\n           lat       long property_type  ...   sqm_price  year_built  \\\n116  55.879060  12.510359     Raekkehus  ...  15838.5100        1930   \n231  55.878773  12.506738     Raekkehus  ...   2272.7273        1988   \n232  55.878773  12.506938     Raekkehus  ...   2245.5090        1988   \n534  55.879173  12.510823         Villa  ...  37837.8360        1925   \n876  55.879192  12.509351         Villa  ...  28669.7250        1954   \n\n                   sales_date  lot_size energy_class  ownership_expenses  \\\n116  2020-03-02T23:00:00.000Z       NaN          NaN                 NaN   \n231  2019-11-30T23:00:00.000Z       NaN          NaN                 NaN   \n232  2019-11-30T23:00:00.000Z       NaN          NaN                 NaN   \n534  2019-05-05T22:00:00.000Z       NaN          NaN                 NaN   \n876  2018-08-13T22:00:00.000Z       NaN          NaN                 NaN   \n\n     basement_size  days_on_market  price_change    price  \n116            NaN             NaN      0.000000  2550000  \n231            NaN             NaN      0.000000   375000  \n232            NaN             NaN      0.000000   375000  \n534            NaN             NaN      0.000000  7000000  \n876            NaN             NaN     -3.772132  6250000  \n\n[5 rows x 22 columns]",
      "text/html": "<div>\n<style scoped>\n    .dataframe tbody tr th:only-of-type {\n        vertical-align: middle;\n    }\n\n    .dataframe tbody tr th {\n        vertical-align: top;\n    }\n\n    .dataframe thead th {\n        text-align: right;\n    }\n</style>\n<table border=\"1\" class=\"dataframe\">\n  <thead>\n    <tr style=\"text-align: right;\">\n      <th></th>\n      <th>Unnamed: 0</th>\n      <th>estateId</th>\n      <th>street</th>\n      <th>street_num</th>\n      <th>floor</th>\n      <th>postnr</th>\n      <th>settlement</th>\n      <th>lat</th>\n      <th>long</th>\n      <th>property_type</th>\n      <th>...</th>\n      <th>sqm_price</th>\n      <th>year_built</th>\n      <th>sales_date</th>\n      <th>lot_size</th>\n      <th>energy_class</th>\n      <th>ownership_expenses</th>\n      <th>basement_size</th>\n      <th>days_on_market</th>\n      <th>price_change</th>\n      <th>price</th>\n    </tr>\n  </thead>\n  <tbody>\n    <tr>\n      <th>116</th>\n      <td>116</td>\n      <td>0</td>\n      <td>Mellemvang</td>\n      <td>14B</td>\n      <td>NaN</td>\n      <td>2970</td>\n      <td>Hørsholm</td>\n      <td>55.879060</td>\n      <td>12.510359</td>\n      <td>Raekkehus</td>\n      <td>...</td>\n      <td>15838.5100</td>\n      <td>1930</td>\n      <td>2020-03-02T23:00:00.000Z</td>\n      <td>NaN</td>\n      <td>NaN</td>\n      <td>NaN</td>\n      <td>NaN</td>\n      <td>NaN</td>\n      <td>0.000000</td>\n      <td>2550000</td>\n    </tr>\n    <tr>\n      <th>231</th>\n      <td>231</td>\n      <td>0</td>\n      <td>Mellemvang</td>\n      <td>3A</td>\n      <td>NaN</td>\n      <td>2970</td>\n      <td>Hørsholm</td>\n      <td>55.878773</td>\n      <td>12.506738</td>\n      <td>Raekkehus</td>\n      <td>...</td>\n      <td>2272.7273</td>\n      <td>1988</td>\n      <td>2019-11-30T23:00:00.000Z</td>\n      <td>NaN</td>\n      <td>NaN</td>\n      <td>NaN</td>\n      <td>NaN</td>\n      <td>NaN</td>\n      <td>0.000000</td>\n      <td>375000</td>\n    </tr>\n    <tr>\n      <th>232</th>\n      <td>232</td>\n      <td>0</td>\n      <td>Mellemvang</td>\n      <td>3B</td>\n      <td>NaN</td>\n      <td>2970</td>\n      <td>Hørsholm</td>\n      <td>55.878773</td>\n      <td>12.506938</td>\n      <td>Raekkehus</td>\n      <td>...</td>\n      <td>2245.5090</td>\n      <td>1988</td>\n      <td>2019-11-30T23:00:00.000Z</td>\n      <td>NaN</td>\n      <td>NaN</td>\n      <td>NaN</td>\n      <td>NaN</td>\n      <td>NaN</td>\n      <td>0.000000</td>\n      <td>375000</td>\n    </tr>\n    <tr>\n      <th>534</th>\n      <td>534</td>\n      <td>0</td>\n      <td>Mellemvang</td>\n      <td>16</td>\n      <td>NaN</td>\n      <td>2970</td>\n      <td>Hørsholm</td>\n      <td>55.879173</td>\n      <td>12.510823</td>\n      <td>Villa</td>\n      <td>...</td>\n      <td>37837.8360</td>\n      <td>1925</td>\n      <td>2019-05-05T22:00:00.000Z</td>\n      <td>NaN</td>\n      <td>NaN</td>\n      <td>NaN</td>\n      <td>NaN</td>\n      <td>NaN</td>\n      <td>0.000000</td>\n      <td>7000000</td>\n    </tr>\n    <tr>\n      <th>876</th>\n      <td>876</td>\n      <td>1430253</td>\n      <td>Mellemvang</td>\n      <td>13</td>\n      <td>NaN</td>\n      <td>2970</td>\n      <td>Hørsholm</td>\n      <td>55.879192</td>\n      <td>12.509351</td>\n      <td>Villa</td>\n      <td>...</td>\n      <td>28669.7250</td>\n      <td>1954</td>\n      <td>2018-08-13T22:00:00.000Z</td>\n      <td>NaN</td>\n      <td>NaN</td>\n      <td>NaN</td>\n      <td>NaN</td>\n      <td>NaN</td>\n      <td>-3.772132</td>\n      <td>6250000</td>\n    </tr>\n  </tbody>\n</table>\n<p>5 rows × 22 columns</p>\n</div>"
     },
     "metadata": {},
     "execution_count": 8
    }
   ],
   "source": [
    "mlv"
   ]
  },
  {
   "cell_type": "code",
   "execution_count": 9,
   "metadata": {},
   "outputs": [
    {
     "output_type": "execute_result",
     "data": {
      "text/plain": "        Unnamed: 0      estateId       postnr          lat         long  \\\ncount  1138.000000  1.138000e+03  1138.000000  1138.000000  1138.000000   \nmean    568.500000  1.139059e+06  2967.407733    55.886184    12.506525   \nstd     328.656609  6.474447e+05     4.384029     0.011392     0.018810   \nmin       0.000000  0.000000e+00  2960.000000    55.846146    12.412047   \n25%     284.250000  1.316949e+06  2960.000000    55.879961    12.494779   \n50%     568.500000  1.462256e+06  2970.000000    55.886240    12.503966   \n75%     852.750000  1.550973e+06  2970.000000    55.893258    12.519859   \nmax    1137.000000  1.667729e+06  2970.000000    55.912160    12.552456   \n\n               sqm      sqm_price   year_built  lot_size  energy_class  \\\ncount  1138.000000    1138.000000  1138.000000       0.0           0.0   \nmean    144.716169   30803.874183  1943.965729       NaN           NaN   \nstd      60.215235   19602.131577   203.784613       NaN           NaN   \nmin      14.000000      33.571430     0.000000       NaN           NaN   \n25%     107.000000   24348.271250  1956.000000       NaN           NaN   \n50%     135.000000   29067.404500  1969.000000       NaN           NaN   \n75%     172.000000   34500.774000  1986.000000       NaN           NaN   \nmax     662.000000  524553.560000  2020.000000       NaN           NaN   \n\n       ownership_expenses  basement_size  days_on_market  price_change  \\\ncount                 0.0            0.0             0.0   1138.000000   \nmean                  NaN            NaN             NaN     -3.274866   \nstd                   NaN            NaN             NaN      6.846744   \nmin                   NaN            NaN             NaN    -93.841415   \n25%                   NaN            NaN             NaN     -4.444445   \n50%                   NaN            NaN             NaN     -2.241806   \n75%                   NaN            NaN             NaN      0.000000   \nmax                   NaN            NaN             NaN     10.256411   \n\n              price  \ncount  1.138000e+03  \nmean   4.527758e+06  \nstd    3.445827e+06  \nmin    1.410000e+04  \n25%    2.733750e+06  \n50%    3.817500e+06  \n75%    5.300000e+06  \nmax    5.875000e+07  ",
      "text/html": "<div>\n<style scoped>\n    .dataframe tbody tr th:only-of-type {\n        vertical-align: middle;\n    }\n\n    .dataframe tbody tr th {\n        vertical-align: top;\n    }\n\n    .dataframe thead th {\n        text-align: right;\n    }\n</style>\n<table border=\"1\" class=\"dataframe\">\n  <thead>\n    <tr style=\"text-align: right;\">\n      <th></th>\n      <th>Unnamed: 0</th>\n      <th>estateId</th>\n      <th>postnr</th>\n      <th>lat</th>\n      <th>long</th>\n      <th>sqm</th>\n      <th>sqm_price</th>\n      <th>year_built</th>\n      <th>lot_size</th>\n      <th>energy_class</th>\n      <th>ownership_expenses</th>\n      <th>basement_size</th>\n      <th>days_on_market</th>\n      <th>price_change</th>\n      <th>price</th>\n    </tr>\n  </thead>\n  <tbody>\n    <tr>\n      <th>count</th>\n      <td>1138.000000</td>\n      <td>1.138000e+03</td>\n      <td>1138.000000</td>\n      <td>1138.000000</td>\n      <td>1138.000000</td>\n      <td>1138.000000</td>\n      <td>1138.000000</td>\n      <td>1138.000000</td>\n      <td>0.0</td>\n      <td>0.0</td>\n      <td>0.0</td>\n      <td>0.0</td>\n      <td>0.0</td>\n      <td>1138.000000</td>\n      <td>1.138000e+03</td>\n    </tr>\n    <tr>\n      <th>mean</th>\n      <td>568.500000</td>\n      <td>1.139059e+06</td>\n      <td>2967.407733</td>\n      <td>55.886184</td>\n      <td>12.506525</td>\n      <td>144.716169</td>\n      <td>30803.874183</td>\n      <td>1943.965729</td>\n      <td>NaN</td>\n      <td>NaN</td>\n      <td>NaN</td>\n      <td>NaN</td>\n      <td>NaN</td>\n      <td>-3.274866</td>\n      <td>4.527758e+06</td>\n    </tr>\n    <tr>\n      <th>std</th>\n      <td>328.656609</td>\n      <td>6.474447e+05</td>\n      <td>4.384029</td>\n      <td>0.011392</td>\n      <td>0.018810</td>\n      <td>60.215235</td>\n      <td>19602.131577</td>\n      <td>203.784613</td>\n      <td>NaN</td>\n      <td>NaN</td>\n      <td>NaN</td>\n      <td>NaN</td>\n      <td>NaN</td>\n      <td>6.846744</td>\n      <td>3.445827e+06</td>\n    </tr>\n    <tr>\n      <th>min</th>\n      <td>0.000000</td>\n      <td>0.000000e+00</td>\n      <td>2960.000000</td>\n      <td>55.846146</td>\n      <td>12.412047</td>\n      <td>14.000000</td>\n      <td>33.571430</td>\n      <td>0.000000</td>\n      <td>NaN</td>\n      <td>NaN</td>\n      <td>NaN</td>\n      <td>NaN</td>\n      <td>NaN</td>\n      <td>-93.841415</td>\n      <td>1.410000e+04</td>\n    </tr>\n    <tr>\n      <th>25%</th>\n      <td>284.250000</td>\n      <td>1.316949e+06</td>\n      <td>2960.000000</td>\n      <td>55.879961</td>\n      <td>12.494779</td>\n      <td>107.000000</td>\n      <td>24348.271250</td>\n      <td>1956.000000</td>\n      <td>NaN</td>\n      <td>NaN</td>\n      <td>NaN</td>\n      <td>NaN</td>\n      <td>NaN</td>\n      <td>-4.444445</td>\n      <td>2.733750e+06</td>\n    </tr>\n    <tr>\n      <th>50%</th>\n      <td>568.500000</td>\n      <td>1.462256e+06</td>\n      <td>2970.000000</td>\n      <td>55.886240</td>\n      <td>12.503966</td>\n      <td>135.000000</td>\n      <td>29067.404500</td>\n      <td>1969.000000</td>\n      <td>NaN</td>\n      <td>NaN</td>\n      <td>NaN</td>\n      <td>NaN</td>\n      <td>NaN</td>\n      <td>-2.241806</td>\n      <td>3.817500e+06</td>\n    </tr>\n    <tr>\n      <th>75%</th>\n      <td>852.750000</td>\n      <td>1.550973e+06</td>\n      <td>2970.000000</td>\n      <td>55.893258</td>\n      <td>12.519859</td>\n      <td>172.000000</td>\n      <td>34500.774000</td>\n      <td>1986.000000</td>\n      <td>NaN</td>\n      <td>NaN</td>\n      <td>NaN</td>\n      <td>NaN</td>\n      <td>NaN</td>\n      <td>0.000000</td>\n      <td>5.300000e+06</td>\n    </tr>\n    <tr>\n      <th>max</th>\n      <td>1137.000000</td>\n      <td>1.667729e+06</td>\n      <td>2970.000000</td>\n      <td>55.912160</td>\n      <td>12.552456</td>\n      <td>662.000000</td>\n      <td>524553.560000</td>\n      <td>2020.000000</td>\n      <td>NaN</td>\n      <td>NaN</td>\n      <td>NaN</td>\n      <td>NaN</td>\n      <td>NaN</td>\n      <td>10.256411</td>\n      <td>5.875000e+07</td>\n    </tr>\n  </tbody>\n</table>\n</div>"
     },
     "metadata": {},
     "execution_count": 9
    }
   ],
   "source": [
    "villa.describe()"
   ]
  },
  {
   "cell_type": "code",
   "execution_count": 10,
   "metadata": {},
   "outputs": [
    {
     "output_type": "execute_result",
     "data": {
      "text/plain": "0       True\n1       True\n2       True\n3       True\n4       True\n        ... \n1133    True\n1134    True\n1135    True\n1136    True\n1137    True\nName: lot_size, Length: 1138, dtype: bool"
     },
     "metadata": {},
     "execution_count": 10
    }
   ],
   "source": [
    "villa.lot_size.isna()"
   ]
  },
  {
   "cell_type": "code",
   "execution_count": 11,
   "metadata": {},
   "outputs": [
    {
     "output_type": "execute_result",
     "data": {
      "text/plain": "1138"
     },
     "metadata": {},
     "execution_count": 11
    }
   ],
   "source": [
    "sum(villa.lot_size.isna())"
   ]
  },
  {
   "cell_type": "code",
   "execution_count": null,
   "metadata": {},
   "outputs": [],
   "source": []
  }
 ],
 "metadata": {
  "kernelspec": {
   "display_name": "Python 3",
   "language": "python",
   "name": "python3"
  },
  "language_info": {
   "codemirror_mode": {
    "name": "ipython",
    "version": 3
   },
   "file_extension": ".py",
   "mimetype": "text/x-python",
   "name": "python",
   "nbconvert_exporter": "python",
   "pygments_lexer": "ipython3",
   "version": "3.8.4"
  }
 },
 "nbformat": 4,
 "nbformat_minor": 4
}